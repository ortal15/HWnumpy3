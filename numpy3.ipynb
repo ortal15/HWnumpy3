{
 "cells": [
  {
   "cell_type": "code",
   "execution_count": 2,
   "id": "fa456787-daee-4f8e-b0b6-d95f13777b9a",
   "metadata": {},
   "outputs": [
    {
     "name": "stdout",
     "output_type": "stream",
     "text": [
      "[[47 60 38 83]\n",
      " [10 50  3 86]\n",
      " [23 15 81  5]\n",
      " [64  9 92 42]]\n"
     ]
    }
   ],
   "source": [
    "import numpy as np\n",
    "from IPython.display import display\n",
    "#1\n",
    "#.1 צור מערך של מספרים שלמים אקראיים בגודל 4 X 4 של מספרים 1-100 )השתמש ב SEED 80 )\n",
    "np.random.seed(80)\n",
    "rand_array = np.random.randint(0, 101, (4, 4))\n",
    "print(rand_array)"
   ]
  },
  {
   "cell_type": "code",
   "execution_count": 3,
   "id": "48fa9567-58a5-4a1b-9f54-164bcae8ca36",
   "metadata": {},
   "outputs": [
    {
     "data": {
      "text/plain": [
       "'rand_array > 50 '"
      ]
     },
     "metadata": {},
     "output_type": "display_data"
    },
    {
     "data": {
      "text/plain": [
       "array([60, 83, 86, 81, 64, 92])"
      ]
     },
     "metadata": {},
     "output_type": "display_data"
    }
   ],
   "source": [
    "#a. הדפס את כל המספרים הגדולים מ- 50 )השתמש בתנאי בתוך סוגריים מרובעים(\n",
    "display('rand_array > 50 ', rand_array[(rand_array > 50)])"
   ]
  },
  {
   "cell_type": "code",
   "execution_count": 8,
   "id": "305f6ead-097c-4f15-a765-c63e20ea4121",
   "metadata": {},
   "outputs": [
    {
     "name": "stdout",
     "output_type": "stream",
     "text": [
      "columns [144 134 214 216]\n",
      "rows [228 149 124 207]\n"
     ]
    }
   ],
   "source": [
    "#b. הדפס את סכום כל עמודה בנפרד, וכל שורה בנפרד. רמז axis\n",
    "print('columns',rand_array.sum(axis=0))\n",
    "print('rows',rand_array.sum(axis=1))"
   ]
  },
  {
   "cell_type": "code",
   "execution_count": 10,
   "id": "74d2991b-ea06-4b9b-9be0-0b6c65c4a95f",
   "metadata": {},
   "outputs": [
    {
     "name": "stdout",
     "output_type": "stream",
     "text": [
      "columns:\n",
      "min: [10  9  3  5]\n",
      "max: [64 60 92 86]\n",
      "mean: [36.  33.5 53.5 54. ]\n",
      "rows:\n",
      "min: [38  3  5  9]\n",
      "max: [83 86 81 92]\n",
      "mean: [57.   37.25 31.   51.75]\n"
     ]
    }
   ],
   "source": [
    "#-np.min np.max np.mean בפונקציות השתמש ,b בסעיף שפתרת כפי ,כעת .c\n",
    "print('columns:')\n",
    "print('min:', rand_array.min(axis=0))\n",
    "print('max:', rand_array.max(axis=0))\n",
    "print('mean:', rand_array.mean(axis=0))\n",
    "print('rows:')\n",
    "print('min:', rand_array.min(axis=1))\n",
    "print('max:', rand_array.max(axis=1))\n",
    "print('mean:', rand_array.mean(axis=1))"
   ]
  }
 ],
 "metadata": {
  "kernelspec": {
   "display_name": "Python [conda env:base] *",
   "language": "python",
   "name": "conda-base-py"
  },
  "language_info": {
   "codemirror_mode": {
    "name": "ipython",
    "version": 3
   },
   "file_extension": ".py",
   "mimetype": "text/x-python",
   "name": "python",
   "nbconvert_exporter": "python",
   "pygments_lexer": "ipython3",
   "version": "3.12.7"
  }
 },
 "nbformat": 4,
 "nbformat_minor": 5
}
