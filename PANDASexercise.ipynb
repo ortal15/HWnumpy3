{
 "cells": [
  {
   "cell_type": "code",
   "execution_count": 1,
   "id": "5e74fe4d-a927-42c5-997f-47dcae78793e",
   "metadata": {},
   "outputs": [],
   "source": [
    "import pandas as pd\n",
    "\n",
    "new_games = {\n",
    "    \"Final Fantasy VII Rebirth\": 69.99,\n",
    "    \"Astro Bot\": 59.99,\n",
    "    \"Star Wars Outlaws\": 69.99,\n",
    "    \"Silent Hill 2 Remake\": 69.99,\n",
    "    \"Elden Ring: Shadow of the Erdtree\": 39.99,\n",
    "    \"Dragon Age: The Veilguard\": 69.99,\n",
    "    \"Metaphor: ReFantazio\": 59.99\n",
    "}\n",
    "games_series = pd.Series(new_games)"
   ]
  },
  {
   "cell_type": "code",
   "execution_count": 5,
   "id": "507495d9-d131-45bf-a04e-012b103c1e94",
   "metadata": {},
   "outputs": [
    {
     "name": "stdout",
     "output_type": "stream",
     "text": [
      "the price: 59.99\n"
     ]
    }
   ],
   "source": [
    "#a\n",
    "print('the price:',games_series[\"Metaphor: ReFantazio\"])"
   ]
  },
  {
   "cell_type": "code",
   "execution_count": 7,
   "id": "8a35b830-9bde-45e1-88f8-3d146e95b572",
   "metadata": {},
   "outputs": [
    {
     "name": "stdout",
     "output_type": "stream",
     "text": [
      "Series keys: Index(['Final Fantasy VII Rebirth', 'Astro Bot', 'Star Wars Outlaws',\n",
      "       'Silent Hill 2 Remake', 'Elden Ring: Shadow of the Erdtree',\n",
      "       'Dragon Age: The Veilguard', 'Metaphor: ReFantazio'],\n",
      "      dtype='object')\n"
     ]
    }
   ],
   "source": [
    "#b\n",
    "print('Series keys:', games_series.index)"
   ]
  },
  {
   "cell_type": "code",
   "execution_count": 11,
   "id": "879ba03e-8c8f-42ac-baf1-b01ccfa75903",
   "metadata": {},
   "outputs": [
    {
     "name": "stdout",
     "output_type": "stream",
     "text": [
      "The price of the game in index 3: 69.99\n"
     ]
    }
   ],
   "source": [
    "#c\n",
    "print('The price of the game in index 3:', games_series.iloc[3])"
   ]
  },
  {
   "cell_type": "code",
   "execution_count": 13,
   "id": "d6c56080-76fd-427d-b79a-27382f5fb521",
   "metadata": {},
   "outputs": [
    {
     "name": "stdout",
     "output_type": "stream",
     "text": [
      "Total price of all games: 439.93\n"
     ]
    }
   ],
   "source": [
    "#d\n",
    "total_price = games_series.values.sum()\n",
    "print('Total price of all games:', total_price)"
   ]
  }
 ],
 "metadata": {
  "kernelspec": {
   "display_name": "Python [conda env:base] *",
   "language": "python",
   "name": "conda-base-py"
  },
  "language_info": {
   "codemirror_mode": {
    "name": "ipython",
    "version": 3
   },
   "file_extension": ".py",
   "mimetype": "text/x-python",
   "name": "python",
   "nbconvert_exporter": "python",
   "pygments_lexer": "ipython3",
   "version": "3.12.7"
  }
 },
 "nbformat": 4,
 "nbformat_minor": 5
}
